{
 "cells": [
  {
   "cell_type": "code",
   "execution_count": 5,
   "id": "36cad80a",
   "metadata": {},
   "outputs": [
    {
     "name": "stdout",
     "output_type": "stream",
     "text": [
      "地理蜂窝图已保存为 养老院分布蜂窝图_with_OSM_colored.html，请在浏览器中打开查看。\n"
     ]
    }
   ],
   "source": [
    "import pandas as pd\n",
    "import pydeck as pdk\n",
    "\n",
    "# 读取养老院数据文件\n",
    "file_path = \"/users/jesstan/Desktop/phd upgrade/data/carehome China/全国/filtered_养老院_coordinates_utf8_sig.csv\"  # 修改为您的文件路径\n",
    "data = pd.read_csv(file_path)\n",
    "\n",
    "# 筛选出经纬度成功的记录\n",
    "data_success = data[data['Status'] == 'Success']\n",
    "\n",
    "# Pydeck HexagonLayer 配置\n",
    "hex_layer = pdk.Layer(\n",
    "    \"HexagonLayer\",\n",
    "    data_success,\n",
    "    get_position=[\"Longitude\", \"Latitude\"],\n",
    "    radius=1500,  # 蜂窝单元大小（单位：米）\n",
    "    elevation_scale=10,  # 高度比例因子\n",
    "    elevation_range=[0, 1000],\n",
    "    extruded=True,  # 3D效果\n",
    "    pickable=True,\n",
    "    coverage=1,  # 确保蜂窝图单元填充满\n",
    "    color_range=[  # 自定义颜色：黄色到红色渐变\n",
    "        [255, 255, 178],  # 浅黄色\n",
    "        [254, 204, 92],   # 黄色\n",
    "        [253, 141, 60],   # 橙色\n",
    "        [252, 78, 42],    # 深橙\n",
    "        [227, 26, 28],    # 红色\n",
    "        [177, 0, 38],     # 深红色\n",
    "    ],\n",
    ")\n",
    "\n",
    "# 添加 OpenStreetMap 底图层\n",
    "tile_layer = pdk.Layer(\n",
    "    \"TileLayer\",\n",
    "    data=None,\n",
    "    get_tile_url=\"https://a.tile.openstreetmap.org/{z}/{x}/{y}.png\",  # OSM 瓦片地图\n",
    ")\n",
    "\n",
    "# 视角配置（自动居中在数据点范围内）\n",
    "view_state = pdk.ViewState(\n",
    "    latitude=data_success[\"Latitude\"].mean(),\n",
    "    longitude=data_success[\"Longitude\"].mean(),\n",
    "    zoom=6,\n",
    "    pitch=45,  # 倾斜视角\n",
    ")\n",
    "\n",
    "# 渲染地图（叠加底图和蜂窝图层）\n",
    "deck = pdk.Deck(\n",
    "    layers=[tile_layer, hex_layer],  # 添加 TileLayer 作为底图\n",
    "    initial_view_state=view_state,\n",
    "    tooltip={\"text\": \"养老院分布密度图\"}\n",
    ")\n",
    "\n",
    "# 保存为 HTML 文件\n",
    "output_path = \"养老院分布蜂窝图_with_OSM_colored.html\"\n",
    "deck.to_html(output_path)\n",
    "\n",
    "print(f\"地理蜂窝图已保存为 {output_path}，请在浏览器中打开查看。\")\n"
   ]
  },
  {
   "cell_type": "markdown",
   "id": "3be22133",
   "metadata": {},
   "source": [
    "# 只画北京"
   ]
  },
  {
   "cell_type": "code",
   "execution_count": 6,
   "id": "bd792b12",
   "metadata": {},
   "outputs": [
    {
     "name": "stdout",
     "output_type": "stream",
     "text": [
      "北京地区的地理蜂窝图已保存为 北京_养老院分布蜂窝图.html，请在浏览器中打开查看。\n"
     ]
    }
   ],
   "source": [
    "import pandas as pd\n",
    "import pydeck as pdk\n",
    "\n",
    "# 读取养老院数据文件\n",
    "file_path = \"/users/jesstan/Desktop/phd upgrade/data/carehome China/全国/filtered_养老院_coordinates_utf8_sig.csv\"  # 修改为您的文件路径\n",
    "data = pd.read_csv(file_path)\n",
    "\n",
    "# 筛选出经纬度成功的记录\n",
    "data_success = data[data['Status'] == 'Success']\n",
    "\n",
    "# 根据经纬度范围筛选出北京地区的数据\n",
    "# 北京的地理范围（大致）：纬度 39.4 ~ 41.6， 经度 115.7 ~ 117.4\n",
    "beijing_data = data_success[\n",
    "    (data_success[\"Latitude\"] >= 39.4) & (data_success[\"Latitude\"] <= 41.6) &\n",
    "    (data_success[\"Longitude\"] >= 115.7) & (data_success[\"Longitude\"] <= 117.4)\n",
    "]\n",
    "\n",
    "# Pydeck HexagonLayer 配置\n",
    "hex_layer = pdk.Layer(\n",
    "    \"HexagonLayer\",\n",
    "    beijing_data,\n",
    "    get_position=[\"Longitude\", \"Latitude\"],\n",
    "    radius=1000,  # 缩小蜂窝单元大小（单位：米）\n",
    "    elevation_scale=20,  # 提高高度比例因子\n",
    "    elevation_range=[0, 2000],\n",
    "    extruded=True,  # 3D效果\n",
    "    pickable=True,\n",
    "    coverage=1,  # 确保蜂窝图单元填充满\n",
    "    color_range=[  # 黄色到红色渐变\n",
    "        [255, 255, 178],  # 浅黄色\n",
    "        [254, 204, 92],   # 黄色\n",
    "        [253, 141, 60],   # 橙色\n",
    "        [252, 78, 42],    # 深橙\n",
    "        [227, 26, 28],    # 红色\n",
    "        [177, 0, 38],     # 深红色\n",
    "    ],\n",
    ")\n",
    "\n",
    "# 添加 OpenStreetMap 底图层\n",
    "tile_layer = pdk.Layer(\n",
    "    \"TileLayer\",\n",
    "    data=None,\n",
    "    get_tile_url=\"https://a.tile.openstreetmap.org/{z}/{x}/{y}.png\",  # OSM 瓦片地图\n",
    ")\n",
    "\n",
    "# 视角配置（自动居中在北京地区）\n",
    "view_state = pdk.ViewState(\n",
    "    latitude=39.9,  # 北京市中心纬度\n",
    "    longitude=116.4,  # 北京市中心经度\n",
    "    zoom=10,  # 缩放到北京地区\n",
    "    pitch=45,  # 倾斜视角\n",
    ")\n",
    "\n",
    "# 渲染地图（叠加底图和蜂窝图层）\n",
    "deck = pdk.Deck(\n",
    "    layers=[tile_layer, hex_layer],  # 添加 TileLayer 作为底图\n",
    "    initial_view_state=view_state,\n",
    "    tooltip={\"text\": \"养老院分布密度图\"}\n",
    ")\n",
    "\n",
    "# 保存为 HTML 文件\n",
    "output_path = \"北京_养老院分布蜂窝图.html\"\n",
    "deck.to_html(output_path)\n",
    "\n",
    "print(f\"北京地区的地理蜂窝图已保存为 {output_path}，请在浏览器中打开查看。\")\n"
   ]
  },
  {
   "cell_type": "code",
   "execution_count": null,
   "id": "4146ad23",
   "metadata": {},
   "outputs": [],
   "source": []
  },
  {
   "cell_type": "code",
   "execution_count": null,
   "id": "d5e88191",
   "metadata": {},
   "outputs": [],
   "source": []
  },
  {
   "cell_type": "code",
   "execution_count": null,
   "id": "b04bd81d",
   "metadata": {},
   "outputs": [],
   "source": []
  }
 ],
 "metadata": {
  "kernelspec": {
   "display_name": "Python 3",
   "language": "python",
   "name": "python3"
  },
  "language_info": {
   "codemirror_mode": {
    "name": "ipython",
    "version": 3
   },
   "file_extension": ".py",
   "mimetype": "text/x-python",
   "name": "python",
   "nbconvert_exporter": "python",
   "pygments_lexer": "ipython3",
   "version": "3.8.8"
  }
 },
 "nbformat": 4,
 "nbformat_minor": 5
}
